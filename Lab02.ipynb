{
 "cells": [
  {
   "cell_type": "markdown",
   "metadata": {},
   "source": [
    "# Lab 02: \n",
    "\n",
    "### Author: Jack Stoetzel [jstoetzel1@gulls.salisbury.edu]\n",
    "\n",
    "### Date: September 10, 2020\n",
    "\n",
    "### Objectives:\n",
    "1. Gain familiarity with the Python programming language\n",
    "2. Use the OOP aspects of Python\n",
    "3. Do some basic data plotting and visualization\n",
    "\n",
    "### Description:\n"
   ]
  },
  {
   "cell_type": "code",
   "execution_count": 1,
   "metadata": {},
   "outputs": [],
   "source": [
    "import math"
   ]
  },
  {
   "cell_type": "code",
   "execution_count": 58,
   "metadata": {},
   "outputs": [],
   "source": [
    "class Vector:\n",
    "    \n",
    "    def __init__(self, x=0, y=0):\n",
    "        self.x = x\n",
    "        self.y = y\n",
    "        \n",
    "    def __add__(self,right):\n",
    "        return (Vector(self.x + right.x, self.y + right.y))\n",
    "    \n",
    "    def __sub__(self,right):\n",
    "        return (Vector(self.x - right.x, self.y - right.y))\n",
    "    \n",
    "    def dotProduct(self, right):\n",
    "        return (self.x * right.x) + (self.y * right.y)\n",
    "    \n",
    "    def distance(self, right):\n",
    "        return math.sqrt(pow(self.x - right.x, 2) + pow(self.y - right.y, 2))\n",
    "    \n",
    "    def __str__(self):\n",
    "        return f\"Vector ({self.x},{self.y})\"\n",
    "        "
   ]
  },
  {
   "cell_type": "code",
   "execution_count": 68,
   "metadata": {},
   "outputs": [],
   "source": [
    "v1 = Vector(4,7)\n",
    "v2 = Vector(1,3)"
   ]
  },
  {
   "cell_type": "code",
   "execution_count": 71,
   "metadata": {},
   "outputs": [
    {
     "name": "stdout",
     "output_type": "stream",
     "text": [
      "Vector (5,10)\n",
      "Vector (3,4)\n",
      "25\n",
      "5.0\n"
     ]
    }
   ],
   "source": [
    "print(v1 + v2)\n",
    "print(v1 - v2)\n",
    "print(v1.dotProduct(v2))\n",
    "print(v1.distance(v2))"
   ]
  }
 ],
 "metadata": {
  "kernelspec": {
   "display_name": "Python 3",
   "language": "python",
   "name": "python3"
  },
  "language_info": {
   "codemirror_mode": {
    "name": "ipython",
    "version": 3
   },
   "file_extension": ".py",
   "mimetype": "text/x-python",
   "name": "python",
   "nbconvert_exporter": "python",
   "pygments_lexer": "ipython3",
   "version": "3.8.3"
  }
 },
 "nbformat": 4,
 "nbformat_minor": 4
}
