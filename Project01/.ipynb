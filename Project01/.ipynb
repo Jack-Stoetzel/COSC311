{
 "cells": [
  {
   "cell_type": "markdown",
   "metadata": {},
   "source": [
    "# Project 01: Preparing Our Data\n",
    "\n",
    "## Authors : Declan Sheehan & Jack Stoetzel\n",
    "\n",
    "## Date: October 25, 2020\n",
    "\n",
    "## Objectives:\n",
    "This will be the first of a three-phase project for the semester. This first phase will begin the process of studying, cleaning, and starting to “engineer” the data. In the second and third phase, we will think about building models from the data, designing a predictive analysis study, and communicating the results through prose and visualization.\n",
    "\n",
    "### College Basketball [Link to Dataset](https://www.kaggle.com/andrewsundberg/college-basketball-dataset)"
   ]
  },
  {
   "cell_type": "code",
   "execution_count": 1,
   "metadata": {},
   "outputs": [],
   "source": [
    "import pandas as pd"
   ]
  },
  {
   "cell_type": "code",
   "execution_count": 2,
   "metadata": {},
   "outputs": [],
   "source": [
    "data = pd.read_csv('./data/cbb.csv')"
   ]
  },
  {
   "cell_type": "markdown",
   "metadata": {},
   "source": [
    "#### 1. What type of population is being sampled? What are the “things” getting measured.\n",
    "The population being sampled is NCAA Division I Basketball Teams overall statistics for a given season."
   ]
  },
  {
   "cell_type": "markdown",
   "metadata": {},
   "source": [
    "#### 2. What features does each sample have, i.e. what is being measured?\n",
    "There are 24 features that consist of\n",
    "01. University Name\n",
    "02. Conference\n",
    "03. Games Played\n",
    "04. Games Won\n",
    "05. Adjusted Offensive Efficiency (An estimate of the offensive efficiency (points scored per 100 possessions) a team would have against the average Division I defense)\n",
    "06. Adjusted Defensive Efficiency (An estimate of the defensive efficiency (points allowed per 100 possessions) a team would have against the average Division I offense)\n",
    "07. Power Rating (Chance of beating an average Division I team)\n",
    "08. Effective Field Goal Percentage Shot\n",
    "09. Effective Field Goal Percentage Allowed\n",
    "10. Turnover Rate\n",
    "11. Steal Rate\n",
    "12. Offensive Rebound Percentage\n",
    "13. Defensive Rebound Percentage\n",
    "14. Free Throw Rate\n",
    "15. Free Throw Rate Allowed\n",
    "16. Two-Point Shooting Percentage\n",
    "17. Two-Point Shooting Percentage Allowed\n",
    "18. Three-Point Shooting Percentage\n",
    "19. Three-Point Shooting Percentage Allowed\n",
    "20. Adjusted Tempo (An estimate of the tempo (possessions per 40 minutes) a team would have against the team that wants to play at an average Division I tempo)\n",
    "21. Wins Above Bubble (The bubble refers to the cut off between making the NCAA March Madness Tournament and not making it)\n",
    "22. Postseason (Round where the given team's season ended (R68, R64, R32, S16, E8, F4, 2ND, Champion))\n",
    "23. Seed in the NCAA March Madness Tournament\n",
    "24. Year"
   ]
  },
  {
   "cell_type": "markdown",
   "metadata": {},
   "source": [
    "#### 3. Are the features quantitative or qualitative? Ordinal or nominal? Continuous or discrete?\n",
    "##### Quantitative Continuous\n",
    "ADJOE, ADJDE, BARTHAG, EFG_O, EFG_D, TOR, TORD, ORB, DRB, FTR, FTRD, 2P_O, 2P_D, 3P_O, 3P_D, ADJ_T, WAB\n",
    "##### Quantitative Discrete\n",
    "G, W, YEAR\n",
    "##### Qualitative Nominal\n",
    "TEAM, CONF\n",
    "##### Qualitative Ordinal\n",
    "POSTSEASON, SEED"
   ]
  },
  {
   "cell_type": "markdown",
   "metadata": {},
   "source": [
    "#### 4. Is the data “complete” or do some of the samples have null or absent values for certain features? Why are these samples still useful? Why are they incomplete?\n",
    "This data is incomplete in the POSTSEASON and SEED columns. If teams were unable to qualify for the years postseason, the respective SEED and POSTSEASON columns are empty. Despite these null values, the overall statistics of each team are captured."
   ]
  },
  {
   "cell_type": "markdown",
   "metadata": {},
   "source": [
    "#### 5. Why are these features chosen to be part of the dataset?\n",
    "The dataset contains a list of the most common statistics referred to throughout a basketball team's season. Many of these features factor into the decision of how \"good\" a team is. For example, if a team has a high 3-point percentage, that means they are likely to score more points, and therefore are more likely to win more games."
   ]
  },
  {
   "cell_type": "markdown",
   "metadata": {},
   "source": [
    "#### 6. What are some other features that are not included but that you think might make sense to include for this dataset?\n",
    "Even though the name of a school’s conference can give a general idea where a team is located (SEC = Southeastern Conference, ACC = Atlantic Coast Conference, etc.), some conferences like the Big Ten are spread out in many different areas. Therefore, the data could include a column that identifies the state where the school is located which would be helpful in determining parts of the country that produce the most \"successful\" teams."
   ]
  },
  {
   "cell_type": "markdown",
   "metadata": {},
   "source": [
    "#### 7. Give at least one way that you can pivot the dataset to get a slightly different representation of some values. Explain what this is and how you would use it for a visualization.\n",
    "One way the data can be pivoted is for each conference to plot the defensive efficiency across all 5 years of this data set. This would be a good way to see how the conferences stack up against each other, and how they have improved or worsened over the 5 years. Some conferences are notorious for having multiple teams with bad defenses, and this can be a good indicator whether those accusations are true. A good visualization of this would be a line graph, where every conference is labeled by a color, and the progression can be seen across all 5 years."
   ]
  },
  {
   "cell_type": "markdown",
   "metadata": {},
   "source": [
    "#### 8. Identify any possible relationships between features included in the data: which ones are likely to affect others?\n",
    "A possible relationship can be made from a team’s 3-point percentage and their offensive efficiency. If one team scores more 3-pointers, they would be projected to have a higher offensive efficiency. \n",
    " ##### I. Show at least one plot or visualization to illustrate this (possible) relationship.\n",
    " (See chart below)\n",
    " ##### ii. What numerical or statistical techniques might you consider using to determine whether the relationship is reliable?\n",
    " A technique that can be used is make similar graphs for many consecutive years to see if this relationship holds true over time. \n",
    " ##### iii. Are there external inferences you think might be possible? \n",
    " Yes. You may be able to infer that a team with a decent offensive efficiency that also has a low 3-point percentage might have a high 2-point percentage that would make up for the lesser amount of 3-point shots."
   ]
  },
  {
   "cell_type": "code",
   "execution_count": 3,
   "metadata": {},
   "outputs": [
    {
     "data": {
      "text/plain": [
       "<matplotlib.axes._subplots.AxesSubplot at 0x7fb626456c70>"
      ]
     },
     "execution_count": 3,
     "metadata": {},
     "output_type": "execute_result"
    },
    {
     "data": {
      "image/png": "[encoded data removed]",
      "text/plain": [
       "<Figure size 432x288 with 1 Axes>"
      ]
     },
     "metadata": {
      "needs_background": "light"
     },
     "output_type": "display_data"
    }
   ],
   "source": [
    "team_aoe_3po = data[(data['YEAR'] == 2017)][['TEAM', 'ADJOE', '3P_O']].groupby(['TEAM']).mean()   \n",
    "team_aoe_3po.plot.scatter(x='ADJOE', y='3P_O', title=\"Offensive Efficiency vs. 3-Pt. Percentage\")"
   ]
  },
  {
   "cell_type": "markdown",
   "metadata": {},
   "source": [
    "#### 9. What “extra” features can you perhaps compute from the data? How might you use this information? \n",
    "One extra feature I could add is win percentage. Because we have the data on the number of games played by each team and the number of wins, we could compute a column that takes the number of wins and divides it by the number of games played. This would be useful to finding relationships between which features best determine the chance of a team winning their games."
   ]
  },
  {
   "cell_type": "markdown",
   "metadata": {},
   "source": []
  }
 ],
 "metadata": {
  "kernelspec": {
   "display_name": "Python 3",
   "language": "python",
   "name": "python3"
  },
  "language_info": {
   "codemirror_mode": {
    "name": "ipython",
    "version": 3
   },
   "file_extension": ".py",
   "mimetype": "text/x-python",
   "name": "python",
   "nbconvert_exporter": "python",
   "pygments_lexer": "ipython3",
   "version": "3.8.3"
  }
 },
 "nbformat": 4,
 "nbformat_minor": 4
}
