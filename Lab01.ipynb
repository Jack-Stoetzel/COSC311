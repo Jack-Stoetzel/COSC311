{
 "cells": [
  {
   "cell_type": "markdown",
   "metadata": {},
   "source": [
    "# Lab 01: \n",
    "\n",
    "### Author: Jack Stoetzel [jstoetzel1@gulls.salisbury.edu]\n",
    "\n",
    "### Date: September 03, 2020\n",
    "\n",
    "### Objectives:\n",
    "1. Gain familiarity with the Python programming language.\n",
    "2. Gain familiarity with Jupyter notebooks and the Jupyter hub cloud system.\n",
    "3. Practice efficiently manipulating data with Python.\n",
    "\n",
    "### Description:\n",
    "A test lab for doing stuff in Jupyter Notebooks"
   ]
  },
  {
   "cell_type": "code",
   "execution_count": 1,
   "metadata": {},
   "outputs": [],
   "source": [
    "# 3. Hard-code a list of 10 dictionaries, where each dictionary contains the keys id and name; \n",
    "# each of these entries will represent a musician.\n",
    "\n",
    "artists = [\n",
    "    {\"id\": 0, \"name\": \"Tears for Fears\"},\n",
    "    {\"id\": 1, \"name\": \"Led Zepplin\"},\n",
    "    {\"id\": 2, \"name\": \"The Who\"},\n",
    "    {\"id\": 3, \"name\": \"Daryl Hall & John Oates\"},\n",
    "    {\"id\": 4, \"name\": \"Supertramp\"},\n",
    "    {\"id\": 5, \"name\": \"Lynyrd Skynyrd\"},\n",
    "    {\"id\": 6, \"name\": \"The Rolling Stones\"},\n",
    "    {\"id\": 7, \"name\": \"Neil Young\"},\n",
    "    {\"id\": 8, \"name\": \"Pink Floyd\"},\n",
    "    {\"id\": 9, \"name\": \"Men at Work\"},\n",
    "]"
   ]
  },
  {
   "cell_type": "code",
   "execution_count": 2,
   "metadata": {},
   "outputs": [],
   "source": [
    "# 4. Create a list of dictionaries for song titles.\n",
    "\n",
    "songs = [\n",
    "    {\"id\": 0, \"name\": \"Shout\"},\n",
    "    {\"id\": 1, \"name\": \"Trampled Under Foot\"},\n",
    "    {\"id\": 2, \"name\": \"Pinball Wizard\"},\n",
    "    {\"id\": 3, \"name\": \"Private Eyes\"},\n",
    "    {\"id\": 4, \"name\": \"Goodbye Stranger\"},\n",
    "    {\"id\": 5, \"name\": \"Free Bird\"},\n",
    "    {\"id\": 6, \"name\": \"Jumpin' Jack Flash\"},\n",
    "    {\"id\": 7, \"name\": \"My My, Hey Hey (Out of the Blue)\"},\n",
    "    {\"id\": 8, \"name\": \"Time\"},\n",
    "    {\"id\": 9, \"name\": \"Who Can It Be Now?\"},\n",
    "]"
   ]
  },
  {
   "cell_type": "code",
   "execution_count": 3,
   "metadata": {},
   "outputs": [],
   "source": [
    "# 5. Create a list of tuples to denote whether two artists perform the same song \n",
    "# (regardless of who wrote the original version).\n",
    "\n",
    "artists_songs = [(6, 1), (1, 6), (3, 9), (0, 4), \n",
    "                 (2, 6), (0, 9), (4, 8), (6, 8), \n",
    "                 (7, 1), (0, 3), (3, 6), (3, 3), \n",
    "                 (2, 0), (7, 4), (5, 5), (6, 0), \n",
    "                 (5, 9), (4, 6), (1, 8), (9, 1)]"
   ]
  },
  {
   "cell_type": "code",
   "execution_count": 4,
   "metadata": {},
   "outputs": [
    {
     "name": "stdout",
     "output_type": "stream",
     "text": [
      "Artists who have covered the song 'Jumpin' Jack Flash' are:\n",
      "Led Zepplin\n",
      "The Who\n",
      "Daryl Hall & John Oates\n",
      "Supertramp\n"
     ]
    }
   ],
   "source": [
    "# 6. Write a subroutine who_covered that takes the name of a song as an argument \n",
    "# and returns a list of names of artists who have covered that song.\n",
    "\n",
    "def who_covered(name):\n",
    "    id = -1\n",
    "    for song in songs:\n",
    "            if song['name'] == name:\n",
    "                id = song['id']\n",
    "                \n",
    "    covers = [item for item in artists_songs if item[1] == id]\n",
    "    return [artists[item[0]]['name'] for item in covers]\n",
    "\n",
    "name = \"Jumpin' Jack Flash\"\n",
    "covers = who_covered(name)\n",
    "print(f\"Artists who have covered the song '{name}' are:\")\n",
    "for artist in covers:\n",
    "    print(artist)"
   ]
  },
  {
   "cell_type": "code",
   "execution_count": 5,
   "metadata": {},
   "outputs": [
    {
     "name": "stdout",
     "output_type": "stream",
     "text": [
      "'Supertramp' share the following songs with other artists:\n",
      "Shout\n",
      "Private Eyes\n"
     ]
    }
   ],
   "source": [
    "# 7. Write a subroutine shared_songs that takes an artist name \n",
    "# and returns a list of songs they share with other artists.\n",
    "\n",
    "def shared_songs(name):\n",
    "    id = -1\n",
    "    for artist in artists:\n",
    "            if artist['name'] == name:\n",
    "                id = artist['id']\n",
    "                \n",
    "    covers = [item for item in artists_songs if item[1] == id]\n",
    "    return [songs[item[0]]['name'] for item in covers]\n",
    "\n",
    "name = \"Daryl Hall & John Oates\"\n",
    "covers = shared_songs(name)\n",
    "print(f\"'{artist}' share the following songs with other artists:\")\n",
    "for song in covers:\n",
    "    print(song)"
   ]
  },
  {
   "cell_type": "code",
   "execution_count": 6,
   "metadata": {},
   "outputs": [
    {
     "name": "stdout",
     "output_type": "stream",
     "text": [
      "Jumpin' Jack Flash - 4\n",
      "Who Can It Be Now? - 3\n",
      "Trampled Under Foot - 3\n",
      "Time - 3\n",
      "Shout - 2\n",
      "Private Eyes - 2\n",
      "Goodbye Stranger - 2\n",
      "Free Bird - 1\n",
      "Pinball Wizard - 0\n",
      "My My, Hey Hey (Out of the Blue) - 0\n"
     ]
    }
   ],
   "source": [
    "# 8. Write a subroutine song_popularity that prints out – in order from most to least covers – \n",
    "# the name and number of times each song has been covered.\n",
    "\n",
    "def song_popularity():\n",
    "    popular = [(0, song['name']) for song in songs]\n",
    "    for _,s in artists_songs:\n",
    "        popular[s] = (popular[s][0]+1, popular[s][1])\n",
    "        \n",
    "    popular.sort(reverse=True)\n",
    "    \n",
    "    for song in popular:\n",
    "        print(song[1], '-', song[0])\n",
    "\n",
    "song_popularity()"
   ]
  },
  {
   "cell_type": "code",
   "execution_count": 7,
   "metadata": {},
   "outputs": [],
   "source": [
    "# 9. Next, create a list of tuples where each tuple contains a pair of data: \n",
    "# the id of a musician and a “keyword” that describes their music\n",
    "\n",
    "keywords = [\n",
    "    (0, \"New Wave\"), (0, \"Pop Rock\"), (0, \"Synth Pop\"),\n",
    "    (1, \"Hard Rock\"), (1, \"Blues Rock\"), (1, \"Folk Rock\"),\n",
    "    (2, \"Rock\"), (2, \"Hard Rock\"), (2, \"Power Pop\"),\n",
    "    (3, \"Pop Rock\"), (3, \"Soft Rock\"), (3, \"R & B\"),\n",
    "    (4, \"Progressive Pop\"), (4, \"Progressive Rock\"), (4, \"Soft Rock\"),\n",
    "    (5, \"Southern Rock\"), (5, \"Blues Rock\"), (5, \"Hard Rock\"),\n",
    "    (6, \"Rock\"), (6, \"Blues Rock\"), (6, \"Hard Rock\"),\n",
    "    (7, \"Rock\"), (7, \"Folk Rock\"), (7, \"Hard Rock\"),\n",
    "    (8, \"Psychedelic\"), (8, \"Progressive Rock\"), (8, \"Alt Rock\"),\n",
    "    (9, \"New Wave\"), (9, \"Pop Rock\"), (9, \"Reggae Rock\")\n",
    "]"
   ]
  },
  {
   "cell_type": "code",
   "execution_count": 34,
   "metadata": {},
   "outputs": [
    {
     "name": "stdout",
     "output_type": "stream",
     "text": [
      "Artists who are similar to 'Tears for Fears' are:\n",
      "Men at Work\n",
      "Daryl Hall & John Oates\n",
      "The Who\n"
     ]
    }
   ],
   "source": [
    "# 10. Write a function similar_artists that takes an artists name \n",
    "# and returns the top three other artists that have the most keywords in common with the one passed in.\n",
    "\n",
    "def similar_artists(name):\n",
    "    id = -1\n",
    "    for artist in artists:\n",
    "        if artist['name'] == name:\n",
    "            id = artist['id']\n",
    "            \n",
    "    words = [wrds[1] for wrds in keywords if wrds[0] == id]\n",
    "    similar = [(0, artist['name']) for artist in artists]\n",
    "    \n",
    "    for word in keywords:\n",
    "        for wrd in words:\n",
    "            if wrd is word[1] and word[0] is not id:\n",
    "                similar[word[0]] = (similar[word[0]][0]+1, similar[word[0]][1])\n",
    "                \n",
    "    similar.sort(reverse=True)\n",
    "    return [similar[i][1] for i in range(3)]\n",
    "    \n",
    "name = \"Tears for Fears\"\n",
    "similar = similar_artists(name)\n",
    "print(f\"Artists who are similar to '{name}' are:\")\n",
    "for i in similar:\n",
    "    print(i)"
   ]
  },
  {
   "cell_type": "markdown",
   "metadata": {},
   "source": [
    "Now on to some visualization! You’re currently set up with a “database” of musical artists, songs, and attributes of those artists. Consider how to use your data to answer the question:\n",
    "\n",
    "**How can we visualize the “type” of each song? What styles and what types of artists tend to play each song?**\n",
    "\n",
    "For a specific example, what visualization can answer the question:\n",
    "\n",
    "**What style of song is “Simple Twist of Fate”? Does it have a style or does it “defy genre”?**\n",
    "\n",
    "Write down some (any that you can think of) visualization strategy to answer this question. Can you use line/bar charts to illustrate? Can you use positional data (points), and what might the axes look like? Are there other “non-standard” charting methods you can think of?\n",
    "\n",
    "1. Sketch by hand or digitally an example of your idea, using the data you entered above\n",
    "2. Investigate how you might get Python to automate the production of your idea. What libraries can you find that might be useful?\n",
    "3. Finally, write down one strategy to try answering the above questions about song-style quantita- tively. Why? If you’re, say, Spotify, then you would probably like a way to appease a user who says: “I like classic rock that uses lots of keyboard and slow rythm”!"
   ]
  },
  {
   "cell_type": "code",
   "execution_count": null,
   "metadata": {},
   "outputs": [],
   "source": []
  }
 ],
 "metadata": {
  "kernelspec": {
   "display_name": "Python 3",
   "language": "python",
   "name": "python3"
  },
  "language_info": {
   "codemirror_mode": {
    "name": "ipython",
    "version": 3
   },
   "file_extension": ".py",
   "mimetype": "text/x-python",
   "name": "python",
   "nbconvert_exporter": "python",
   "pygments_lexer": "ipython3",
   "version": "3.8.3"
  }
 },
 "nbformat": 4,
 "nbformat_minor": 4
}
