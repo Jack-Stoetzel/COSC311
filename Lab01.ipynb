{
 "cells": [
  {
   "cell_type": "markdown",
   "metadata": {},
   "source": [
    "# Lab 01: \n",
    "\n",
    "### Author: Jack Stoetzel [jstoetzel1@gulls.salisbury.edu]\n",
    "\n",
    "### Date: September 03, 2020\n",
    "\n",
    "### Objectives:\n",
    "1. Gain familiarity with the Python programming language.\n",
    "2. Gain familiarity with Jupyter notebooks and the Jupyter hub cloud system.\n",
    "3. Practice efficiently manipulating data with Python.\n",
    "\n",
    "### Description:\n",
    "A test lab for doing stuff in Jupyter Notebooks"
   ]
  },
  {
   "cell_type": "code",
   "execution_count": 1,
   "metadata": {},
   "outputs": [],
   "source": [
    "# Hard-code a list of 10 dictionaries, where each dictionary contains the keys id and name; \n",
    "# each of these entries will represent a musician.\n",
    "artists = [\n",
    "    {\"id\": 0, \"name\": \"Tears for Fears\"},\n",
    "    {\"id\": 1, \"name\": \"Led Zepplin\"},\n",
    "    {\"id\": 2, \"name\": \"The Who\"},\n",
    "    {\"id\": 3, \"name\": \"Daryl Hall & John Oates\"},\n",
    "    {\"id\": 4, \"name\": \"Supertramp\"},\n",
    "    {\"id\": 5, \"name\": \"Lynyrd Skynyrd\"},\n",
    "    {\"id\": 6, \"name\": \"The Rolling Stones\"},\n",
    "    {\"id\": 7, \"name\": \"Outkast\"},\n",
    "    {\"id\": 8, \"name\": \"Pink Floyd\"},\n",
    "    {\"id\": 9, \"name\": \"Men at Work\"},\n",
    "]"
   ]
  },
  {
   "cell_type": "code",
   "execution_count": 2,
   "metadata": {},
   "outputs": [],
   "source": [
    "# Create a list of dictionaries for song titles.\n",
    "songs = [\n",
    "    {\"id\": 0, \"name\": \"Shout\"},\n",
    "    {\"id\": 1, \"name\": \"Trampled Under Foot\"},\n",
    "    {\"id\": 2, \"name\": \"Pinball Wizard\"},\n",
    "    {\"id\": 3, \"name\": \"Private Eyes\"},\n",
    "    {\"id\": 4, \"name\": \"Goodbye Stranger\"},\n",
    "    {\"id\": 5, \"name\": \"Free Bird\"},\n",
    "    {\"id\": 6, \"name\": \"Jumpin' Jack Flash\"},\n",
    "    {\"id\": 7, \"name\": \"Roses\"},\n",
    "    {\"id\": 8, \"name\": \"Time\"},\n",
    "    {\"id\": 9, \"name\": \"Who Can It Be Now?\"},\n",
    "]"
   ]
  },
  {
   "cell_type": "code",
   "execution_count": 3,
   "metadata": {},
   "outputs": [],
   "source": [
    "# Create a list of tuples to denote whether two artists perform the same song \n",
    "# (regardless of who wrote the original version).\n",
    "artists_songs = [(6, 1), (1, 6), (3, 9), (0, 4), \n",
    "                 (2, 6), (0, 9), (4, 8), (6, 8), \n",
    "                 (7, 1), (0, 3), (3, 6), (3, 3), \n",
    "                 (2, 0), (7, 4), (5, 5), (6, 0), \n",
    "                 (5, 9), (4, 6), (1, 8), (9, 1)]"
   ]
  },
  {
   "cell_type": "code",
   "execution_count": 4,
   "metadata": {},
   "outputs": [
    {
     "name": "stdout",
     "output_type": "stream",
     "text": [
      "Artists who have covered the song 'Jumpin' Jack Flash' are:\n",
      "Led Zepplin\n",
      "The Who\n",
      "Daryl Hall & John Oates\n",
      "Supertramp\n"
     ]
    }
   ],
   "source": [
    "# Write a subroutine who_covered that takes the name of a song as an argument \n",
    "# and returns a list of names of artists who have covered that song.\n",
    "def who_covered(song):\n",
    "    id = -1\n",
    "    for sng in songs:\n",
    "            if sng['name'] == song:\n",
    "                id = sng['id']\n",
    "    covers = [item for item in artists_songs if item[1] == id]\n",
    "    return [artists[item[0]]['name'] for item in covers]\n",
    "\n",
    "song = \"Jumpin' Jack Flash\"\n",
    "covers = who_covered(song)\n",
    "print(f\"Artists who have covered the song '{song}' are:\")\n",
    "for artist in covers:\n",
    "    print(artist)"
   ]
  },
  {
   "cell_type": "code",
   "execution_count": 5,
   "metadata": {},
   "outputs": [
    {
     "name": "stdout",
     "output_type": "stream",
     "text": [
      "'Daryl Hall & John Oates' share the following songs with other artists:\n",
      "Shout\n",
      "Private Eyes\n"
     ]
    }
   ],
   "source": [
    "# Write a subroutine shared_songs that takes an artist name \n",
    "# and returns a list of songs they share with other artists.\n",
    "def shared_songs(artist):\n",
    "    id = -1\n",
    "    for art in artists:\n",
    "            if art['name'] == artist:\n",
    "                id = art['id']\n",
    "    covers = [item for item in artists_songs if item[1] == id]\n",
    "    return [songs[item[0]]['name'] for item in covers]\n",
    "\n",
    "artist = \"Daryl Hall & John Oates\"\n",
    "covers = shared_songs(artist)\n",
    "print(f\"'{artist}' share the following songs with other artists:\")\n",
    "for song in covers:\n",
    "    print(song)"
   ]
  },
  {
   "cell_type": "code",
   "execution_count": 6,
   "metadata": {},
   "outputs": [],
   "source": [
    "# Write a subroutine song_popularity that prints out – in order from most to least covers – \n",
    "# the name and number of times each song has been covered.\n",
    "\n",
    "#  Make a list of tuples where [0] is the song ID and [1] is the number of times it is covered\n",
    "\n"
   ]
  },
  {
   "cell_type": "code",
   "execution_count": 7,
   "metadata": {},
   "outputs": [],
   "source": [
    "# Next, create a list of tuples where each tuple contains a pair of data: \n",
    "# the id of a musician and a “keyword” that describes their music"
   ]
  },
  {
   "cell_type": "code",
   "execution_count": 8,
   "metadata": {},
   "outputs": [],
   "source": [
    "# Write a function similar_artists that takes an artists name \n",
    "# and returns the top three other artists that have the most keywords in common with the one passed in."
   ]
  }
 ],
 "metadata": {
  "kernelspec": {
   "display_name": "Python 3",
   "language": "python",
   "name": "python3"
  },
  "language_info": {
   "codemirror_mode": {
    "name": "ipython",
    "version": 3
   },
   "file_extension": ".py",
   "mimetype": "text/x-python",
   "name": "python",
   "nbconvert_exporter": "python",
   "pygments_lexer": "ipython3",
   "version": "3.8.3"
  }
 },
 "nbformat": 4,
 "nbformat_minor": 4
}
